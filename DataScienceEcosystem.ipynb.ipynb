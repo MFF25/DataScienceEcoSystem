{
 "cells": [
  {
   "cell_type": "markdown",
   "id": "8c371e7f-2208-44fb-a776-a126dee8d350",
   "metadata": {},
   "source": [
    "# Data Science Tools and Ecosystem"
   ]
  },
  {
   "cell_type": "markdown",
   "id": "8e003737-41c0-4656-84ef-d7b295cce36d",
   "metadata": {},
   "source": [
    "In this notebook, Data Science Tools and Ecosystem are summarized."
   ]
  },
  {
   "cell_type": "markdown",
   "id": "39ca4a6e-e239-42b9-854f-a79b9122b357",
   "metadata": {},
   "source": [
    "**Objectives:**\n",
    "* List Popular Languages for Data Science\n",
    "* List Commonly Used Libraries in Data Science\n",
    "* List Open Source Tools in Data Science"
   ]
  },
  {
   "cell_type": "markdown",
   "id": "24764e01-057e-46d1-b87c-108a9f80684c",
   "metadata": {},
   "source": [
    "Some of the popular languages that Data Scientists use are:\n",
    "1. Python\n",
    "2. R\n",
    "3. SQL"
   ]
  },
  {
   "cell_type": "markdown",
   "id": "9168b6dc-1449-4087-aba4-8ddae78cef7f",
   "metadata": {},
   "source": [
    "Some of the commonly used libraries used by Data Scientists include:\n",
    "1. Pandas\n",
    "2. Matplotlib\n",
    "3. TensorFlow"
   ]
  },
  {
   "cell_type": "markdown",
   "id": "25c4fc3d-75b7-465d-9c05-1c33e981079f",
   "metadata": {},
   "source": [
    "| Data Science Tools |\n",
    "| -------------------|\n",
    "| MySQL |\n",
    "| Apache Airflow |\n",
    "| Hue |"
   ]
  },
  {
   "cell_type": "markdown",
   "id": "b9a8a8bd-7b4e-4edd-b490-539f591309fb",
   "metadata": {},
   "source": [
    "### Below are a few examples of evaluating arithmetic expressions in Python."
   ]
  },
  {
   "cell_type": "code",
   "execution_count": 1,
   "id": "abf2f5f7-b747-4d26-b573-33932afac500",
   "metadata": {
    "tags": []
   },
   "outputs": [
    {
     "data": {
      "text/plain": [
       "17"
      ]
     },
     "execution_count": 1,
     "metadata": {},
     "output_type": "execute_result"
    }
   ],
   "source": [
    "# This a simple arithmetic expression to mutiply then add integers\n",
    "(3*4)+5"
   ]
  },
  {
   "cell_type": "code",
   "execution_count": 2,
   "id": "ed8eaeb0-a999-4d0b-a626-3ce84e2eaaf3",
   "metadata": {
    "tags": []
   },
   "outputs": [
    {
     "data": {
      "text/plain": [
       "3.3333333333333335"
      ]
     },
     "execution_count": 2,
     "metadata": {},
     "output_type": "execute_result"
    }
   ],
   "source": [
    "# This will convert 200 minutes to hours by diving by 60\n",
    "200/60"
   ]
  },
  {
   "cell_type": "markdown",
   "id": "50e62c2a-701e-4191-916d-286b1ec7110f",
   "metadata": {},
   "source": [
    "## Author\n",
    "Mina Fares"
   ]
  },
  {
   "cell_type": "code",
   "execution_count": null,
   "id": "b4fd6a20-fa3c-4de5-803a-4cdb48d8abf4",
   "metadata": {},
   "outputs": [],
   "source": []
  }
 ],
 "metadata": {
  "kernelspec": {
   "display_name": "Python 3 (ipykernel)",
   "language": "python",
   "name": "python3"
  },
  "language_info": {
   "codemirror_mode": {
    "name": "ipython",
    "version": 3
   },
   "file_extension": ".py",
   "mimetype": "text/x-python",
   "name": "python",
   "nbconvert_exporter": "python",
   "pygments_lexer": "ipython3",
   "version": "3.11.5"
  }
 },
 "nbformat": 4,
 "nbformat_minor": 5
}
